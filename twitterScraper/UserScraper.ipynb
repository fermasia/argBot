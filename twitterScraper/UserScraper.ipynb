{
 "cells": [
  {
   "cell_type": "code",
   "execution_count": 1,
   "metadata": {},
   "outputs": [],
   "source": [
    "import pandas as pd\n",
    "import requests\n",
    "from IPython.display import HTML, display\n",
    "from bs4 import BeautifulSoup\n",
    "from bs4 import Comment\n",
    "import json\n",
    "import html\n",
    "import re\n",
    "import urllib.parse"
   ]
  },
  {
   "cell_type": "code",
   "execution_count": 2,
   "metadata": {},
   "outputs": [],
   "source": [
    "#configuro proxy y headers\n",
    "url_proxy = 'https://free-proxy-list.net/anonymous-proxy.html'\n",
    "response_pxy = requests.get(url_proxy)\n",
    "pxySoup = BeautifulSoup(response_pxy.text, 'html.parser')\n",
    "rowsPxy = []\n",
    "headPxy = []\n",
    "for tablePart in pxySoup.find_all(attrs={'id':'proxylisttable'})[0].find_all(True, recursive=False):\n",
    "    if(tablePart.name == 'thead'):\n",
    "        for row in tablePart.find_all(True, recursive=False):\n",
    "            headPxy = [tr.text for tr in row]\n",
    "    if(tablePart.name == 'tbody'):\n",
    "        for row in tablePart.find_all(True, recursive=False):\n",
    "            rowsPxy.append([tr.text for tr in row])\n",
    "proxiesDf = pd.DataFrame(data=rowsPxy, columns=headPxy)\n",
    "proxiesDf = proxiesDf[(proxiesDf['Anonymity']=='elite proxy')].sort_values(by='Https', ascending=False)\n",
    "headersChrome = {\n",
    "    'User-Agent': 'Mozilla/5.0 (Windows NT 10.0; Win64; x64) AppleWebKit/537.36 (KHTML, like Gecko) Chrome/60.0.3112.113 Safari/537.36'\n",
    "}\n",
    "proxies = {\n",
    "    \"http\": proxiesDf[proxiesDf.Https=='no'].loc[:,'IP Address'].values[0]\n",
    "}"
   ]
  },
  {
   "cell_type": "code",
   "execution_count": 3,
   "metadata": {},
   "outputs": [],
   "source": [
    "pageResponse = requests.get('https://twitter.com/marcelopuella', headers=headersChrome, proxies=proxies)\n",
    "twData = BeautifulSoup(pageResponse.text, 'html.parser')"
   ]
  },
  {
   "cell_type": "markdown",
   "metadata": {},
   "source": [
    "### object detail\n",
    "id: int  \n",
    "screen_name: @usuario  \n",
    "tweet_count: int  \n",
    "description: descripcion usuario \n",
    "location: ubicacion en desc  \n",
    "url: url en desc  \n",
    "listed_count: listas de las cuales forma parte  \n",
    "created_at: cuenta creada el  \n",
    "crawled_at: cuando se escrapeo  \n",
    "favs_count: int  \n",
    "followers_count: int  \n",
    "following_count: int\n",
    "verified: true/false"
   ]
  },
  {
   "cell_type": "code",
   "execution_count": 9,
   "metadata": {},
   "outputs": [],
   "source": [
    "userDf = pd.DataFrame(columns=[\n",
    "    'id',\n",
    "    'screen_name',\n",
    "    'tweet_count',\n",
    "    'description',\n",
    "    'location',\n",
    "    'url',\n",
    "    'listed_count',\n",
    "    'created_at',\n",
    "    'crawled_at',\n",
    "    'favs_count',\n",
    "    'followers_count',\n",
    "    'following_count',\n",
    "    'verified'\n",
    "])"
   ]
  },
  {
   "cell_type": "code",
   "execution_count": 16,
   "metadata": {},
   "outputs": [
    {
     "data": {
      "text/html": [
       "<div>\n",
       "<style scoped>\n",
       "    .dataframe tbody tr th:only-of-type {\n",
       "        vertical-align: middle;\n",
       "    }\n",
       "\n",
       "    .dataframe tbody tr th {\n",
       "        vertical-align: top;\n",
       "    }\n",
       "\n",
       "    .dataframe thead th {\n",
       "        text-align: right;\n",
       "    }\n",
       "</style>\n",
       "<table border=\"1\" class=\"dataframe\">\n",
       "  <thead>\n",
       "    <tr style=\"text-align: right;\">\n",
       "      <th></th>\n",
       "      <th>screen_name</th>\n",
       "    </tr>\n",
       "  </thead>\n",
       "  <tbody>\n",
       "    <tr>\n",
       "      <th>0</th>\n",
       "      <td>ElGatoyLaCaja</td>\n",
       "    </tr>\n",
       "    <tr>\n",
       "      <th>1</th>\n",
       "      <td>merotegui</td>\n",
       "    </tr>\n",
       "    <tr>\n",
       "      <th>2</th>\n",
       "      <td>Floxie10</td>\n",
       "    </tr>\n",
       "  </tbody>\n",
       "</table>\n",
       "</div>"
      ],
      "text/plain": [
       "     screen_name\n",
       "0  ElGatoyLaCaja\n",
       "1      merotegui\n",
       "2       Floxie10"
      ]
     },
     "execution_count": 16,
     "metadata": {},
     "output_type": "execute_result"
    }
   ],
   "source": [
    "toScrap = pd.DataFrame(data=['ElGatoyLaCaja', 'merotegui', 'Floxie10'], columns=['screen_name'])\n",
    "toScrap.head()"
   ]
  },
  {
   "cell_type": "code",
   "execution_count": null,
   "metadata": {},
   "outputs": [],
   "source": []
  }
 ],
 "metadata": {
  "kernelspec": {
   "display_name": "Python 3",
   "language": "python",
   "name": "python3"
  },
  "language_info": {
   "codemirror_mode": {
    "name": "ipython",
    "version": 3
   },
   "file_extension": ".py",
   "mimetype": "text/x-python",
   "name": "python",
   "nbconvert_exporter": "python",
   "pygments_lexer": "ipython3",
   "version": "3.7.1"
  }
 },
 "nbformat": 4,
 "nbformat_minor": 2
}
