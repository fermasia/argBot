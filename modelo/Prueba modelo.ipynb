{
 "cells": [
  {
   "cell_type": "code",
   "execution_count": 176,
   "metadata": {},
   "outputs": [],
   "source": [
    "import pandas as pd\n",
    "from catboost import CatBoostClassifier\n",
    "from sklearn import preprocessing"
   ]
  },
  {
   "cell_type": "code",
   "execution_count": 177,
   "metadata": {},
   "outputs": [],
   "source": [
    "users = pd.read_pickle('Users.pkl')"
   ]
  },
  {
   "cell_type": "code",
   "execution_count": 178,
   "metadata": {},
   "outputs": [],
   "source": [
    "# Cargar Modelo\n",
    "model = CatBoostClassifier().load_model(\"modelo\")"
   ]
  },
  {
   "cell_type": "code",
   "execution_count": 179,
   "metadata": {},
   "outputs": [
    {
     "data": {
      "text/plain": [
       "Index(['id', 'screen_name', 'complete_name', 'tweet_count', 'description',\n",
       "       'location', 'birthdate', 'url', 'listed_count', 'created_at',\n",
       "       'crawled_at', 'favs_count', 'followers_count', 'following_count',\n",
       "       'verified'],\n",
       "      dtype='object')"
      ]
     },
     "execution_count": 179,
     "metadata": {},
     "output_type": "execute_result"
    }
   ],
   "source": [
    "users.columns"
   ]
  },
  {
   "cell_type": "code",
   "execution_count": 180,
   "metadata": {},
   "outputs": [],
   "source": [
    "usuarios = users[['id','screen_name','complete_name']]"
   ]
  },
  {
   "cell_type": "code",
   "execution_count": 181,
   "metadata": {},
   "outputs": [],
   "source": [
    "users.crawled_at = pd.to_datetime(users.crawled_at).dt.floor('S') # Corregir formato timestamp\n",
    "users.created_at = pd.to_datetime(users.created_at).dt.floor('S') # Corregir formato timestamp\n",
    "users.description = users.description.notna()  # Convertir a Dummy\n",
    "users.screen_name = users.screen_name.notna()  # Convertir a Dummy\n",
    "users.location = users.location.notna()  # Convertir a Dummy"
   ]
  },
  {
   "cell_type": "code",
   "execution_count": 182,
   "metadata": {},
   "outputs": [],
   "source": [
    "# Favourites Count = The number of Tweets this user has liked in the account’s lifetime\n",
    "# Transformar en ratio sobre tiempo de existencia\n",
    "users.loc[:,'favs_tiempo'] = users.favs_count.astype(int) / ((pd.to_datetime(users.crawled_at,errors='coerce').astype(int) -  pd.to_datetime(users.created_at,errors='coerce').astype(int))/10000000000000000)\n",
    "# Eliminar columna original\n",
    "users.drop(columns='favs_count',inplace=True)"
   ]
  },
  {
   "cell_type": "code",
   "execution_count": 183,
   "metadata": {},
   "outputs": [],
   "source": [
    "# Statuses Count = The number of Tweets this user has liked in the account’s lifetime\n",
    "# Transformar en ratio sobre tiempo de existencia\n",
    "users.loc[:,'statuses_tiempo'] = users.tweet_count.astype(int) / ((pd.to_datetime(users.crawled_at,errors='coerce').astype(int) -  pd.to_datetime(users.created_at,errors='coerce').astype(int))/10000000000000000)\n",
    "# Eliminar columna original\n",
    "users.drop(columns='tweet_count',inplace=True)"
   ]
  },
  {
   "cell_type": "code",
   "execution_count": 184,
   "metadata": {},
   "outputs": [],
   "source": [
    "# Followers Count = The number of Tweets this user has liked in the account’s lifetime\n",
    "# Transformar en ratio sobre tiempo de existencia\n",
    "users.loc[:,'followers_tiempo'] = users.followers_count.astype(int) / ((pd.to_datetime(users.crawled_at,errors='coerce').astype(int) -  pd.to_datetime(users.created_at,errors='coerce').astype(int))/10000000000000000)\n",
    "# Eliminar columna original\n",
    "users.drop(columns='followers_count',inplace=True)"
   ]
  },
  {
   "cell_type": "code",
   "execution_count": 185,
   "metadata": {},
   "outputs": [],
   "source": [
    "# Friends Count = The number of Tweets this user has liked in the account’s lifetime\n",
    "# Transformar en ratio sobre tiempo de existencia\n",
    "users.loc[:,'friends_tiempo'] = users.following_count.astype(int) / ((pd.to_datetime(users.crawled_at,errors='coerce').astype(int) -  pd.to_datetime(users.created_at,errors='coerce').astype(int))/10000000000000000)\n",
    "# Eliminar columna original\n",
    "users.drop(columns='following_count',inplace=True)"
   ]
  },
  {
   "cell_type": "code",
   "execution_count": 186,
   "metadata": {},
   "outputs": [],
   "source": [
    "# Quedarnos con las columnas necesarias\n",
    "users = users[['screen_name', 'description', 'location', 'listed_count', 'statuses_tiempo', 'favs_tiempo','followers_tiempo', 'friends_tiempo']]"
   ]
  },
  {
   "cell_type": "code",
   "execution_count": 187,
   "metadata": {},
   "outputs": [],
   "source": [
    "# Preparar datos para aplicar el modelo\n",
    "atributos = users.columns\n",
    "to_predict = preprocessing.scale(users, axis = 0)"
   ]
  },
  {
   "cell_type": "code",
   "execution_count": 188,
   "metadata": {},
   "outputs": [],
   "source": [
    "# Predecir\n",
    "predicciones = model.predict(to_predict)"
   ]
  },
  {
   "cell_type": "code",
   "execution_count": 189,
   "metadata": {},
   "outputs": [
    {
     "data": {
      "text/plain": [
       "1.0    2306\n",
       "0.0    1192\n",
       "Name: 0, dtype: int64"
      ]
     },
     "execution_count": 189,
     "metadata": {},
     "output_type": "execute_result"
    }
   ],
   "source": [
    "pd.DataFrame(predicciones)[0].value_counts()"
   ]
  }
 ],
 "metadata": {
  "kernelspec": {
   "display_name": "Python [conda env:geopandas]",
   "language": "python",
   "name": "conda-env-geopandas-py"
  },
  "language_info": {
   "codemirror_mode": {
    "name": "ipython",
    "version": 3
   },
   "file_extension": ".py",
   "mimetype": "text/x-python",
   "name": "python",
   "nbconvert_exporter": "python",
   "pygments_lexer": "ipython3",
   "version": "3.7.1"
  }
 },
 "nbformat": 4,
 "nbformat_minor": 2
}
