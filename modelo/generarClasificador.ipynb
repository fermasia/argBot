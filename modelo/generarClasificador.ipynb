{
 "cells": [
  {
   "cell_type": "markdown",
   "metadata": {},
   "source": [
    "# Modelo para clasificar usuarios de Twitter"
   ]
  },
  {
   "cell_type": "code",
   "execution_count": 75,
   "metadata": {},
   "outputs": [],
   "source": [
    "import pandas as pd\n",
    "import numpy as np\n",
    "\n",
    "import os\n",
    "import pickle\n",
    "\n",
    "from sklearn.ensemble import BaggingClassifier\n",
    "from sklearn.neighbors import KNeighborsClassifier\n",
    "from sklearn.linear_model  import LogisticRegression\n",
    "\n",
    "from sklearn.metrics import confusion_matrix, classification_report\n",
    "from sklearn.metrics import accuracy_score\n",
    "from sklearn.model_selection import cross_val_score, StratifiedKFold\n",
    "from sklearn.model_selection import GridSearchCV, RandomizedSearchCV\n",
    "from sklearn.model_selection import train_test_split\n",
    "\n",
    "from sklearn import preprocessing\n",
    "from sklearn.preprocessing import LabelEncoder\n",
    "from sklearn.preprocessing import StandardScaler"
   ]
  },
  {
   "cell_type": "code",
   "execution_count": 30,
   "metadata": {},
   "outputs": [
    {
     "name": "stdout",
     "output_type": "stream",
     "text": [
      "5995 usuarios\n"
     ]
    },
    {
     "data": {
      "text/html": [
       "<div>\n",
       "<style scoped>\n",
       "    .dataframe tbody tr th:only-of-type {\n",
       "        vertical-align: middle;\n",
       "    }\n",
       "\n",
       "    .dataframe tbody tr th {\n",
       "        vertical-align: top;\n",
       "    }\n",
       "\n",
       "    .dataframe thead th {\n",
       "        text-align: right;\n",
       "    }\n",
       "</style>\n",
       "<table border=\"1\" class=\"dataframe\">\n",
       "  <thead>\n",
       "    <tr style=\"text-align: right;\">\n",
       "      <th></th>\n",
       "      <th>bot</th>\n",
       "      <th>Cat</th>\n",
       "      <th>lun</th>\n",
       "      <th>mar</th>\n",
       "      <th>mie</th>\n",
       "      <th>jue</th>\n",
       "      <th>vie</th>\n",
       "      <th>sab</th>\n",
       "      <th>dom</th>\n",
       "      <th>times_mean</th>\n",
       "      <th>...</th>\n",
       "      <th>num_mentions_mean</th>\n",
       "      <th>num_mentions_median</th>\n",
       "      <th>num_mentions_std</th>\n",
       "      <th>num_mentions_fq</th>\n",
       "      <th>num_mentions_tq</th>\n",
       "      <th>reply_count_mean</th>\n",
       "      <th>reply_count_median</th>\n",
       "      <th>reply_count_std</th>\n",
       "      <th>reply_count_fq</th>\n",
       "      <th>reply_count_tq</th>\n",
       "    </tr>\n",
       "  </thead>\n",
       "  <tbody>\n",
       "    <tr>\n",
       "      <th>0</th>\n",
       "      <td>False</td>\n",
       "      <td>Humans</td>\n",
       "      <td>20.560000</td>\n",
       "      <td>24.320000</td>\n",
       "      <td>19.560000</td>\n",
       "      <td>18.200000</td>\n",
       "      <td>17.720000</td>\n",
       "      <td>11.440000</td>\n",
       "      <td>16.000000</td>\n",
       "      <td>4710.0</td>\n",
       "      <td>...</td>\n",
       "      <td>9019.780220</td>\n",
       "      <td>10000.0</td>\n",
       "      <td>8720.070307</td>\n",
       "      <td>0.0</td>\n",
       "      <td>10000.0</td>\n",
       "      <td>0.0</td>\n",
       "      <td>0.0</td>\n",
       "      <td>0.0</td>\n",
       "      <td>0.0</td>\n",
       "      <td>0.0</td>\n",
       "    </tr>\n",
       "    <tr>\n",
       "      <th>1</th>\n",
       "      <td>False</td>\n",
       "      <td>Humans</td>\n",
       "      <td>6.678571</td>\n",
       "      <td>5.069767</td>\n",
       "      <td>6.321429</td>\n",
       "      <td>5.602273</td>\n",
       "      <td>4.951807</td>\n",
       "      <td>4.654762</td>\n",
       "      <td>4.609756</td>\n",
       "      <td>16468.0</td>\n",
       "      <td>...</td>\n",
       "      <td>5439.727066</td>\n",
       "      <td>0.0</td>\n",
       "      <td>6453.941616</td>\n",
       "      <td>0.0</td>\n",
       "      <td>10000.0</td>\n",
       "      <td>0.0</td>\n",
       "      <td>0.0</td>\n",
       "      <td>0.0</td>\n",
       "      <td>0.0</td>\n",
       "      <td>0.0</td>\n",
       "    </tr>\n",
       "    <tr>\n",
       "      <th>2</th>\n",
       "      <td>False</td>\n",
       "      <td>Humans</td>\n",
       "      <td>11.423077</td>\n",
       "      <td>16.666667</td>\n",
       "      <td>18.464286</td>\n",
       "      <td>31.448276</td>\n",
       "      <td>23.586207</td>\n",
       "      <td>7.285714</td>\n",
       "      <td>6.041667</td>\n",
       "      <td>5342.0</td>\n",
       "      <td>...</td>\n",
       "      <td>9337.349398</td>\n",
       "      <td>10000.0</td>\n",
       "      <td>10512.287386</td>\n",
       "      <td>0.0</td>\n",
       "      <td>20000.0</td>\n",
       "      <td>0.0</td>\n",
       "      <td>0.0</td>\n",
       "      <td>0.0</td>\n",
       "      <td>0.0</td>\n",
       "      <td>0.0</td>\n",
       "    </tr>\n",
       "    <tr>\n",
       "      <th>3</th>\n",
       "      <td>False</td>\n",
       "      <td>Humans</td>\n",
       "      <td>5.046512</td>\n",
       "      <td>5.227273</td>\n",
       "      <td>6.726190</td>\n",
       "      <td>5.116279</td>\n",
       "      <td>5.845238</td>\n",
       "      <td>4.858824</td>\n",
       "      <td>4.954023</td>\n",
       "      <td>16588.0</td>\n",
       "      <td>...</td>\n",
       "      <td>6102.096011</td>\n",
       "      <td>10000.0</td>\n",
       "      <td>6578.193523</td>\n",
       "      <td>0.0</td>\n",
       "      <td>10000.0</td>\n",
       "      <td>0.0</td>\n",
       "      <td>0.0</td>\n",
       "      <td>0.0</td>\n",
       "      <td>0.0</td>\n",
       "      <td>0.0</td>\n",
       "    </tr>\n",
       "    <tr>\n",
       "      <th>4</th>\n",
       "      <td>False</td>\n",
       "      <td>Humans</td>\n",
       "      <td>24.000000</td>\n",
       "      <td>19.285714</td>\n",
       "      <td>27.047619</td>\n",
       "      <td>31.631579</td>\n",
       "      <td>29.600000</td>\n",
       "      <td>15.550000</td>\n",
       "      <td>15.894737</td>\n",
       "      <td>3867.0</td>\n",
       "      <td>...</td>\n",
       "      <td>7184.534271</td>\n",
       "      <td>10000.0</td>\n",
       "      <td>8842.028988</td>\n",
       "      <td>0.0</td>\n",
       "      <td>10000.0</td>\n",
       "      <td>0.0</td>\n",
       "      <td>0.0</td>\n",
       "      <td>0.0</td>\n",
       "      <td>0.0</td>\n",
       "      <td>0.0</td>\n",
       "    </tr>\n",
       "  </tbody>\n",
       "</table>\n",
       "<p>5 rows × 44 columns</p>\n",
       "</div>"
      ],
      "text/plain": [
       "     bot     Cat        lun        mar        mie        jue        vie  \\\n",
       "0  False  Humans  20.560000  24.320000  19.560000  18.200000  17.720000   \n",
       "1  False  Humans   6.678571   5.069767   6.321429   5.602273   4.951807   \n",
       "2  False  Humans  11.423077  16.666667  18.464286  31.448276  23.586207   \n",
       "3  False  Humans   5.046512   5.227273   6.726190   5.116279   5.845238   \n",
       "4  False  Humans  24.000000  19.285714  27.047619  31.631579  29.600000   \n",
       "\n",
       "         sab        dom  times_mean  ...  num_mentions_mean  \\\n",
       "0  11.440000  16.000000      4710.0  ...        9019.780220   \n",
       "1   4.654762   4.609756     16468.0  ...        5439.727066   \n",
       "2   7.285714   6.041667      5342.0  ...        9337.349398   \n",
       "3   4.858824   4.954023     16588.0  ...        6102.096011   \n",
       "4  15.550000  15.894737      3867.0  ...        7184.534271   \n",
       "\n",
       "   num_mentions_median  num_mentions_std  num_mentions_fq  num_mentions_tq  \\\n",
       "0              10000.0       8720.070307              0.0          10000.0   \n",
       "1                  0.0       6453.941616              0.0          10000.0   \n",
       "2              10000.0      10512.287386              0.0          20000.0   \n",
       "3              10000.0       6578.193523              0.0          10000.0   \n",
       "4              10000.0       8842.028988              0.0          10000.0   \n",
       "\n",
       "   reply_count_mean  reply_count_median  reply_count_std  reply_count_fq  \\\n",
       "0               0.0                 0.0              0.0             0.0   \n",
       "1               0.0                 0.0              0.0             0.0   \n",
       "2               0.0                 0.0              0.0             0.0   \n",
       "3               0.0                 0.0              0.0             0.0   \n",
       "4               0.0                 0.0              0.0             0.0   \n",
       "\n",
       "   reply_count_tq  \n",
       "0             0.0  \n",
       "1             0.0  \n",
       "2             0.0  \n",
       "3             0.0  \n",
       "4             0.0  \n",
       "\n",
       "[5 rows x 44 columns]"
      ]
     },
     "execution_count": 30,
     "metadata": {},
     "output_type": "execute_result"
    }
   ],
   "source": [
    "#importamos features generadas a partir de tweets de bots y humanos\n",
    "users = pd.read_csv('features_generadas.csv')\n",
    "users.drop(['user_id', 'user_id.1','tweetsCount', 'semanas'], axis=1,inplace=True)\n",
    "users = users.fillna(0)\n",
    "\n",
    "print(len(users), 'usuarios')\n",
    "users.head()"
   ]
  },
  {
   "cell_type": "code",
   "execution_count": 31,
   "metadata": {},
   "outputs": [
    {
     "data": {
      "text/html": [
       "<div>\n",
       "<style scoped>\n",
       "    .dataframe tbody tr th:only-of-type {\n",
       "        vertical-align: middle;\n",
       "    }\n",
       "\n",
       "    .dataframe tbody tr th {\n",
       "        vertical-align: top;\n",
       "    }\n",
       "\n",
       "    .dataframe thead th {\n",
       "        text-align: right;\n",
       "    }\n",
       "</style>\n",
       "<table border=\"1\" class=\"dataframe\">\n",
       "  <thead>\n",
       "    <tr style=\"text-align: right;\">\n",
       "      <th></th>\n",
       "      <th>Cantidad</th>\n",
       "    </tr>\n",
       "    <tr>\n",
       "      <th>Cat</th>\n",
       "      <th></th>\n",
       "    </tr>\n",
       "  </thead>\n",
       "  <tbody>\n",
       "    <tr>\n",
       "      <th>Humans</th>\n",
       "      <td>1083</td>\n",
       "    </tr>\n",
       "    <tr>\n",
       "      <th>SocialSpambot1</th>\n",
       "      <td>991</td>\n",
       "    </tr>\n",
       "    <tr>\n",
       "      <th>SocialSpambot2</th>\n",
       "      <td>3457</td>\n",
       "    </tr>\n",
       "    <tr>\n",
       "      <th>SocialSpambot3</th>\n",
       "      <td>464</td>\n",
       "    </tr>\n",
       "  </tbody>\n",
       "</table>\n",
       "</div>"
      ],
      "text/plain": [
       "                Cantidad\n",
       "Cat                     \n",
       "Humans              1083\n",
       "SocialSpambot1       991\n",
       "SocialSpambot2      3457\n",
       "SocialSpambot3       464"
      ]
     },
     "execution_count": 31,
     "metadata": {},
     "output_type": "execute_result"
    }
   ],
   "source": [
    " users.groupby('Cat').count()[['bot']].rename(index=str, columns={'bot':'Cantidad'})"
   ]
  },
  {
   "cell_type": "code",
   "execution_count": 40,
   "metadata": {},
   "outputs": [],
   "source": [
    "le = LabelEncoder()\n",
    "scaler = StandardScaler()\n",
    "\n",
    "X = users.drop(['Cat', 'bot'], axis=1)\n",
    "y = le.fit_transform(users['bot'])\n",
    "\n",
    "X_train, X_test, y_train, y_test = train_test_split(X, y, test_size=0.3, random_state=42)\n",
    "X_train = scaler.fit_transform(X_train)\n",
    "X_test = scaler.transform(X_test)"
   ]
  },
  {
   "cell_type": "code",
   "execution_count": 53,
   "metadata": {},
   "outputs": [
    {
     "name": "stdout",
     "output_type": "stream",
     "text": [
      "Fitting 3 folds for each of 15 candidates, totalling 45 fits\n"
     ]
    },
    {
     "name": "stderr",
     "output_type": "stream",
     "text": [
      "[Parallel(n_jobs=-1)]: Done  45 out of  45 | elapsed:  2.5min finished\n",
      "[Parallel(n_jobs=12)]: Done   2 out of  12 | elapsed:    3.0s remaining:   15.6s\n",
      "[Parallel(n_jobs=12)]: Done  12 out of  12 | elapsed:   15.3s finished\n"
     ]
    }
   ],
   "source": [
    "logistic =  LogisticRegression(penalty='l1', C=1.2, class_weight='balanced')\n",
    "hyperparameters = {\n",
    "\n",
    "}\n",
    "param_trees = {\n",
    "    'n_estimators': [50, 100, 200], \n",
    "   'max_features': [1, 5, 8, 10, 21]\n",
    "    \n",
    "}\n",
    "kf = StratifiedKFold(n_splits=3, shuffle=True)\n",
    "\n",
    "bdt = BaggingClassifier(base_estimator=logistic, n_jobs=-1, random_state=7, verbose=1)\n",
    "grid_search_bdt = GridSearchCV(bdt, param_grid=param_trees, cv=kf, verbose=1, n_jobs=-1)\n",
    "bestModel = grid_search_bdt.fit(X_train, y_train)"
   ]
  },
  {
   "cell_type": "code",
   "execution_count": 57,
   "metadata": {},
   "outputs": [],
   "source": [
    "finalParams = grid_search_bdt.best_estimator_.get_params()"
   ]
  },
  {
   "cell_type": "code",
   "execution_count": 56,
   "metadata": {},
   "outputs": [
    {
     "name": "stderr",
     "output_type": "stream",
     "text": [
      "[Parallel(n_jobs=12)]: Done   2 out of  12 | elapsed:    1.8s remaining:    9.6s\n"
     ]
    },
    {
     "name": "stdout",
     "output_type": "stream",
     "text": [
      "0.9649805447470817\n"
     ]
    },
    {
     "name": "stderr",
     "output_type": "stream",
     "text": [
      "[Parallel(n_jobs=12)]: Done  12 out of  12 | elapsed:    7.1s finished\n"
     ]
    },
    {
     "data": {
      "text/html": [
       "<div>\n",
       "<style scoped>\n",
       "    .dataframe tbody tr th:only-of-type {\n",
       "        vertical-align: middle;\n",
       "    }\n",
       "\n",
       "    .dataframe tbody tr th {\n",
       "        vertical-align: top;\n",
       "    }\n",
       "\n",
       "    .dataframe thead th {\n",
       "        text-align: right;\n",
       "    }\n",
       "</style>\n",
       "<table border=\"1\" class=\"dataframe\">\n",
       "  <thead>\n",
       "    <tr style=\"text-align: right;\">\n",
       "      <th></th>\n",
       "      <th>pred_False</th>\n",
       "      <th>pred_True</th>\n",
       "    </tr>\n",
       "  </thead>\n",
       "  <tbody>\n",
       "    <tr>\n",
       "      <th>False</th>\n",
       "      <td>334</td>\n",
       "      <td>11</td>\n",
       "    </tr>\n",
       "    <tr>\n",
       "      <th>True</th>\n",
       "      <td>52</td>\n",
       "      <td>1402</td>\n",
       "    </tr>\n",
       "  </tbody>\n",
       "</table>\n",
       "</div>"
      ],
      "text/plain": [
       "       pred_False  pred_True\n",
       "False         334         11\n",
       "True           52       1402"
      ]
     },
     "execution_count": 56,
     "metadata": {},
     "output_type": "execute_result"
    }
   ],
   "source": [
    "y_pred = bestModel.predict(X_test)\n",
    "print(accuracy_score(y_test, y_pred))\n",
    "\n",
    "conf = confusion_matrix(y_test, y_pred)\n",
    "pd.DataFrame(conf, index = le.classes_, columns = ['pred_'+str(c) for c in le.classes_])"
   ]
  },
  {
   "cell_type": "code",
   "execution_count": 70,
   "metadata": {},
   "outputs": [],
   "source": [
    "X_final = scaler.transform(users.drop(['Cat', 'bot'], axis=1))\n",
    "y_final = le.transform(users['bot'])"
   ]
  },
  {
   "cell_type": "code",
   "execution_count": 74,
   "metadata": {},
   "outputs": [
    {
     "data": {
      "text/plain": [
       "BaggingClassifier(base_estimator=LogisticRegression(C=1.2, class_weight='balanced', dual=False,\n",
       "          fit_intercept=True, intercept_scaling=1, max_iter=100,\n",
       "          multi_class='ovr', n_jobs=1, penalty='l1', random_state=None,\n",
       "          solver='liblinear', tol=0.0001, verbose=0, warm_start=False),\n",
       "         bootstrap=True, bootstrap_features=False, max_features=21,\n",
       "         max_samples=1.0, n_estimators=50, n_jobs=-1, oob_score=False,\n",
       "         random_state=7, verbose=0, warm_start=False)"
      ]
     },
     "execution_count": 74,
     "metadata": {},
     "output_type": "execute_result"
    }
   ],
   "source": [
    "finalModel = grid_search_bdt.best_estimator_\n",
    "finalModel.verbose = 0\n",
    "finalModel.fit(X_final, y_final)\n",
    "finalModel"
   ]
  },
  {
   "cell_type": "code",
   "execution_count": 76,
   "metadata": {},
   "outputs": [],
   "source": [
    "#guardar modelo\n",
    "filename = 'twitterClassifier.pkl'\n",
    "with open(filename, 'wb') as twModel:\n",
    "    pickle.dump(finalModel, twModel)"
   ]
  }
 ],
 "metadata": {
  "kernelspec": {
   "display_name": "Python 3",
   "language": "python",
   "name": "python3"
  },
  "language_info": {
   "codemirror_mode": {
    "name": "ipython",
    "version": 3
   },
   "file_extension": ".py",
   "mimetype": "text/x-python",
   "name": "python",
   "nbconvert_exporter": "python",
   "pygments_lexer": "ipython3",
   "version": "3.6.5"
  }
 },
 "nbformat": 4,
 "nbformat_minor": 2
}
