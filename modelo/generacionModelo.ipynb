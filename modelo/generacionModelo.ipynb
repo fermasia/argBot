{
 "cells": [
  {
   "cell_type": "markdown",
   "metadata": {},
   "source": [
    "# UserBasicClassifier\n",
    "Un classificador básico con la matadata del usuario"
   ]
  },
  {
   "cell_type": "code",
   "execution_count": 93,
   "metadata": {},
   "outputs": [],
   "source": [
    "import pandas as pd\n",
    "import numpy as np\n",
    "\n",
    "import os\n",
    "import pickle\n",
    "\n",
    "from sklearn.ensemble import BaggingClassifier\n",
    "from sklearn.neighbors import KNeighborsClassifier\n",
    "from sklearn.linear_model  import LogisticRegression\n",
    "\n",
    "from sklearn.metrics import confusion_matrix, classification_report\n",
    "from sklearn.metrics import accuracy_score\n",
    "from sklearn.model_selection import cross_val_score, StratifiedKFold\n",
    "from sklearn.model_selection import GridSearchCV, RandomizedSearchCV\n",
    "from sklearn.model_selection import train_test_split\n",
    "\n",
    "from sklearn import preprocessing\n",
    "from sklearn.preprocessing import LabelEncoder\n",
    "from sklearn.preprocessing import StandardScaler\n",
    "from catboost import CatBoostClassifier\n",
    "\n",
    "from sklearn.pipeline import Pipeline\n",
    "from sklearn.base import TransformerMixin"
   ]
  },
  {
   "cell_type": "code",
   "execution_count": 94,
   "metadata": {},
   "outputs": [],
   "source": [
    "users = pd.read_pickle('trainDatasets/users_dataset.pkl')"
   ]
  },
  {
   "cell_type": "code",
   "execution_count": 95,
   "metadata": {},
   "outputs": [
    {
     "data": {
      "text/html": [
       "<div>\n",
       "<style scoped>\n",
       "    .dataframe tbody tr th:only-of-type {\n",
       "        vertical-align: middle;\n",
       "    }\n",
       "\n",
       "    .dataframe tbody tr th {\n",
       "        vertical-align: top;\n",
       "    }\n",
       "\n",
       "    .dataframe thead th {\n",
       "        text-align: right;\n",
       "    }\n",
       "</style>\n",
       "<table border=\"1\" class=\"dataframe\">\n",
       "  <thead>\n",
       "    <tr style=\"text-align: right;\">\n",
       "      <th></th>\n",
       "      <th>id</th>\n",
       "      <th>screen_name</th>\n",
       "      <th>complete_name</th>\n",
       "      <th>description</th>\n",
       "      <th>verified</th>\n",
       "      <th>crawled_at</th>\n",
       "      <th>location</th>\n",
       "      <th>url</th>\n",
       "      <th>created_at</th>\n",
       "      <th>tweet_count</th>\n",
       "      <th>listed_count</th>\n",
       "      <th>favs_count</th>\n",
       "      <th>followers_count</th>\n",
       "      <th>following_count</th>\n",
       "      <th>bot</th>\n",
       "      <th>user_type</th>\n",
       "    </tr>\n",
       "  </thead>\n",
       "  <tbody>\n",
       "    <tr>\n",
       "      <th>2372241176</th>\n",
       "      <td>2372241176</td>\n",
       "      <td>DennaMcsparren</td>\n",
       "      <td>Denna Mcsparren</td>\n",
       "      <td>NaN</td>\n",
       "      <td>NaN</td>\n",
       "      <td>2014-05-05 00:20:03</td>\n",
       "      <td>NaN</td>\n",
       "      <td>NaN</td>\n",
       "      <td>Tue Mar 04 18:11:08 +0000 2014</td>\n",
       "      <td>53</td>\n",
       "      <td>0</td>\n",
       "      <td>0</td>\n",
       "      <td>10</td>\n",
       "      <td>46</td>\n",
       "      <td>True</td>\n",
       "      <td>Spambot_2</td>\n",
       "    </tr>\n",
       "    <tr>\n",
       "      <th>2368684734</th>\n",
       "      <td>2368684734</td>\n",
       "      <td>YukikoTretter</td>\n",
       "      <td>Yukiko Tretter</td>\n",
       "      <td>NaN</td>\n",
       "      <td>NaN</td>\n",
       "      <td>2014-05-05 00:20:47</td>\n",
       "      <td>NaN</td>\n",
       "      <td>NaN</td>\n",
       "      <td>Sun Mar 02 10:38:13 +0000 2014</td>\n",
       "      <td>68</td>\n",
       "      <td>0</td>\n",
       "      <td>0</td>\n",
       "      <td>4</td>\n",
       "      <td>40</td>\n",
       "      <td>True</td>\n",
       "      <td>Spambot_2</td>\n",
       "    </tr>\n",
       "    <tr>\n",
       "      <th>2353855646</th>\n",
       "      <td>2353855646</td>\n",
       "      <td>RochelAmaro</td>\n",
       "      <td>Rochel Amaro</td>\n",
       "      <td>NaN</td>\n",
       "      <td>NaN</td>\n",
       "      <td>2014-05-05 00:20:03</td>\n",
       "      <td>NaN</td>\n",
       "      <td>NaN</td>\n",
       "      <td>Thu Feb 20 22:28:03 +0000 2014</td>\n",
       "      <td>79</td>\n",
       "      <td>0</td>\n",
       "      <td>0</td>\n",
       "      <td>9</td>\n",
       "      <td>39</td>\n",
       "      <td>True</td>\n",
       "      <td>Spambot_2</td>\n",
       "    </tr>\n",
       "    <tr>\n",
       "      <th>2372322542</th>\n",
       "      <td>2372322542</td>\n",
       "      <td>BrandiBabin</td>\n",
       "      <td>Brandi Babin</td>\n",
       "      <td>NaN</td>\n",
       "      <td>NaN</td>\n",
       "      <td>2014-05-05 00:20:03</td>\n",
       "      <td>NaN</td>\n",
       "      <td>NaN</td>\n",
       "      <td>Tue Mar 04 19:52:10 +0000 2014</td>\n",
       "      <td>59</td>\n",
       "      <td>0</td>\n",
       "      <td>0</td>\n",
       "      <td>1</td>\n",
       "      <td>39</td>\n",
       "      <td>True</td>\n",
       "      <td>Spambot_2</td>\n",
       "    </tr>\n",
       "    <tr>\n",
       "      <th>2352506778</th>\n",
       "      <td>2352506778</td>\n",
       "      <td>ChungPosadas</td>\n",
       "      <td>Chung Posadas</td>\n",
       "      <td>NaN</td>\n",
       "      <td>NaN</td>\n",
       "      <td>2014-05-05 00:20:03</td>\n",
       "      <td>NaN</td>\n",
       "      <td>NaN</td>\n",
       "      <td>Thu Feb 20 01:34:19 +0000 2014</td>\n",
       "      <td>73</td>\n",
       "      <td>0</td>\n",
       "      <td>0</td>\n",
       "      <td>7</td>\n",
       "      <td>36</td>\n",
       "      <td>True</td>\n",
       "      <td>Spambot_2</td>\n",
       "    </tr>\n",
       "  </tbody>\n",
       "</table>\n",
       "</div>"
      ],
      "text/plain": [
       "                    id     screen_name    complete_name description  verified  \\\n",
       "2372241176  2372241176  DennaMcsparren  Denna Mcsparren         NaN       NaN   \n",
       "2368684734  2368684734   YukikoTretter   Yukiko Tretter         NaN       NaN   \n",
       "2353855646  2353855646     RochelAmaro     Rochel Amaro         NaN       NaN   \n",
       "2372322542  2372322542     BrandiBabin     Brandi Babin         NaN       NaN   \n",
       "2352506778  2352506778    ChungPosadas    Chung Posadas         NaN       NaN   \n",
       "\n",
       "                     crawled_at location  url                      created_at  \\\n",
       "2372241176  2014-05-05 00:20:03      NaN  NaN  Tue Mar 04 18:11:08 +0000 2014   \n",
       "2368684734  2014-05-05 00:20:47      NaN  NaN  Sun Mar 02 10:38:13 +0000 2014   \n",
       "2353855646  2014-05-05 00:20:03      NaN  NaN  Thu Feb 20 22:28:03 +0000 2014   \n",
       "2372322542  2014-05-05 00:20:03      NaN  NaN  Tue Mar 04 19:52:10 +0000 2014   \n",
       "2352506778  2014-05-05 00:20:03      NaN  NaN  Thu Feb 20 01:34:19 +0000 2014   \n",
       "\n",
       "            tweet_count  listed_count  favs_count  followers_count  \\\n",
       "2372241176           53             0           0               10   \n",
       "2368684734           68             0           0                4   \n",
       "2353855646           79             0           0                9   \n",
       "2372322542           59             0           0                1   \n",
       "2352506778           73             0           0                7   \n",
       "\n",
       "            following_count   bot  user_type  \n",
       "2372241176               46  True  Spambot_2  \n",
       "2368684734               40  True  Spambot_2  \n",
       "2353855646               39  True  Spambot_2  \n",
       "2372322542               39  True  Spambot_2  \n",
       "2352506778               36  True  Spambot_2  "
      ]
     },
     "execution_count": 95,
     "metadata": {},
     "output_type": "execute_result"
    }
   ],
   "source": [
    "users = users[(users.user_type=='Human') | (users.user_type=='Spambot_2')]\n",
    "users.head()"
   ]
  },
  {
   "cell_type": "code",
   "execution_count": 2,
   "metadata": {},
   "outputs": [],
   "source": [
    "def transform_x(df):\n",
    "    df.loc[:, 'crawled_at'] = pd.DatetimeIndex(pd.to_datetime(df.crawled_at, utc=None)).tz_convert(tz='UTC')\n",
    "    df.loc[:, 'created_at'] = pd.DatetimeIndex(pd.to_datetime(df.created_at, utc=None)).tz_convert(tz='UTC')\n",
    "    account_life = df.crawled_at - df.created_at\n",
    "    account_life_meses = np.round(account_life.dt.days / 30)\n",
    "    account_life_meses = account_life_meses.replace(0, 1)\n",
    "    account_life_semanas = np.round(account_life.dt.days / 7)\n",
    "    account_life_semanas = account_life_semanas.replace(0, 1)\n",
    "    numValues = ['tweet_count', 'listed_count', 'followers_count', 'following_count']\n",
    "    for i in numValues:\n",
    "        colName_mes = i+'_mes'\n",
    "        df.loc[:,colName_mes] = df[i] / account_life_meses\n",
    "\n",
    "        colName_semana = i+'_semana'\n",
    "        df.loc[:,colName_semana] = df[i] / account_life_semanas\n",
    "\n",
    "    df.loc[:,'verified'] = ~df.verified.isna()\n",
    "    df.loc[:,'description'] = ~df.description.isna()\n",
    "    df.loc[:,'location'] = ~df.location.isna()\n",
    "    df.loc[:,'url'] = ~df.url.isna()\n",
    "\n",
    "    columnas = np.concatenate(\n",
    "        [[x+'_mes', x+'_semana'] for x in numValues]\n",
    "    )\n",
    "    columnas = np.concatenate([\n",
    "        [\n",
    "            'verified',\n",
    "            'description',\n",
    "            'location',\n",
    "            'url',\n",
    "        ],\n",
    "        columnas\n",
    "    ])\n",
    "    df = df[columnas]\n",
    "    df = df.fillna(0)\n",
    "    return df\n",
    "    \n",
    "#     def fit(self, x, y=0):\n",
    "#         return self\n",
    "#     def transform(self, x, y=0):\n",
    "#         x = self.getVars(x)\n",
    "#         return x\n",
    "#     def fit_transform(self, x, y=0):\n",
    "#         x = self.getVars(x)\n",
    "#         return x"
   ]
  },
  {
   "cell_type": "code",
   "execution_count": 103,
   "metadata": {
    "scrolled": true
   },
   "outputs": [
    {
     "data": {
      "text/plain": [
       "Pipeline(memory=None,\n",
       "     steps=[('scaler', StandardScaler(copy=True, with_mean=True, with_std=True)), ('cat', LogisticRegression(C=1.0, class_weight=None, dual=False, fit_intercept=True,\n",
       "          intercept_scaling=1, max_iter=100, multi_class='ovr', n_jobs=1,\n",
       "          penalty='l2', random_state=None, solver='liblinear', tol=0.0001,\n",
       "          verbose=0, warm_start=False))])"
      ]
     },
     "execution_count": 103,
     "metadata": {},
     "output_type": "execute_result"
    }
   ],
   "source": [
    "pipeline = Pipeline([\n",
    "    ('scaler', StandardScaler()),\n",
    "    ('cat', CatBoostClassifier())\n",
    "])\n",
    "\n",
    "le = preprocessing.LabelEncoder()\n",
    "x = transform_x(users)\n",
    "y =  le.fit_transform(users['bot'])\n",
    "\n",
    "X_train, X_test, y_train, y_test = train_test_split(x, y)\n",
    "\n",
    "# pipeline.fit(X_train, y_train)"
   ]
  },
  {
   "cell_type": "code",
   "execution_count": 104,
   "metadata": {},
   "outputs": [
    {
     "name": "stdout",
     "output_type": "stream",
     "text": [
      "El valor del AUC es:  0.9803062728365417\n"
     ]
    },
    {
     "data": {
      "text/plain": [
       "<matplotlib.axes._subplots.AxesSubplot at 0x20d72a33ef0>"
      ]
     },
     "execution_count": 104,
     "metadata": {},
     "output_type": "execute_result"
    },
    {
     "data": {
      "image/png": "[encoded data removed]",
      "text/plain": [
       "<Figure size 432x288 with 1 Axes>"
      ]
     },
     "metadata": {},
     "output_type": "display_data"
    }
   ],
   "source": [
    "y_predicted_cat = pipeline.predict_proba(X_test)\n",
    "y_pred = pipeline.predict(X_test)\n",
    "\n",
    "from sklearn.metrics import roc_auc_score\n",
    "cat_auc = roc_auc_score(y_test,y_predicted_cat[:,1])\n",
    "print(\"El valor del AUC es: \", cat_auc)\n",
    "from scikitplot.metrics import plot_roc\n",
    "%matplotlib inline\n",
    "plot_roc(y_test,y_predicted_cat, plot_micro = False, plot_macro= False)"
   ]
  },
  {
   "cell_type": "code",
   "execution_count": 105,
   "metadata": {},
   "outputs": [
    {
     "data": {
      "text/html": [
       "<div>\n",
       "<style scoped>\n",
       "    .dataframe tbody tr th:only-of-type {\n",
       "        vertical-align: middle;\n",
       "    }\n",
       "\n",
       "    .dataframe tbody tr th {\n",
       "        vertical-align: top;\n",
       "    }\n",
       "\n",
       "    .dataframe thead th {\n",
       "        text-align: right;\n",
       "    }\n",
       "</style>\n",
       "<table border=\"1\" class=\"dataframe\">\n",
       "  <thead>\n",
       "    <tr style=\"text-align: right;\">\n",
       "      <th></th>\n",
       "      <th>pred_Human</th>\n",
       "      <th>pred_Bot</th>\n",
       "    </tr>\n",
       "  </thead>\n",
       "  <tbody>\n",
       "    <tr>\n",
       "      <th>real_Human</th>\n",
       "      <td>709</td>\n",
       "      <td>177</td>\n",
       "    </tr>\n",
       "    <tr>\n",
       "      <th>real_Bot</th>\n",
       "      <td>4</td>\n",
       "      <td>843</td>\n",
       "    </tr>\n",
       "  </tbody>\n",
       "</table>\n",
       "</div>"
      ],
      "text/plain": [
       "            pred_Human  pred_Bot\n",
       "real_Human         709       177\n",
       "real_Bot             4       843"
      ]
     },
     "metadata": {},
     "output_type": "display_data"
    },
    {
     "name": "stdout",
     "output_type": "stream",
     "text": [
      "             precision    recall  f1-score   support\n",
      "\n",
      "          0       0.99      0.80      0.89       886\n",
      "          1       0.83      1.00      0.90       847\n",
      "\n",
      "avg / total       0.91      0.90      0.89      1733\n",
      "\n"
     ]
    }
   ],
   "source": [
    "# Matriz de Confusión\n",
    "conf = confusion_matrix(y_test, y_pred)\n",
    "predicted_cols = ['pred_'+str(c) for c in le.classes_]\n",
    "display(pd.DataFrame(conf, index= ['real_Human','real_Bot'],columns = ['pred_Human','pred_Bot']))\n",
    "print(classification_report(y_test, y_pred))"
   ]
  },
  {
   "cell_type": "code",
   "execution_count": 106,
   "metadata": {
    "scrolled": true
   },
   "outputs": [],
   "source": [
    "# Re-Entrenar con el dataset completo\n",
    "modelo = pipeline.fit(transform_x(users), y)"
   ]
  },
  {
   "cell_type": "code",
   "execution_count": 107,
   "metadata": {},
   "outputs": [],
   "source": [
    "# # Exportar Modelo a archivo binario\n",
    "filename = 'modelPipeline.pkl'\n",
    "with open(filename, 'wb') as twModel:\n",
    "    pickle.dump(modelo, twModel)"
   ]
  },
  {
   "cell_type": "code",
   "execution_count": 108,
   "metadata": {},
   "outputs": [],
   "source": [
    "import lime\n",
    "import lime.lime_tabular\n",
    "explainer = lime.lime_tabular.LimeTabularExplainer(\n",
    "    X_train, \n",
    "    feature_names=X_train.columns,\n",
    "    class_names=le.classes_, \n",
    "    discretize_continuous=False\n",
    ")\n",
    "\n",
    "# X_train, X_test, y_train, y_test"
   ]
  },
  {
   "cell_type": "code",
   "execution_count": 109,
   "metadata": {},
   "outputs": [],
   "source": [
    "i = np.random.randint(0, X_test.shape[0])"
   ]
  },
  {
   "cell_type": "markdown",
   "metadata": {},
   "source": [
    "i = np.random.randint(0, X_test.shape[0])\n",
    "exp = explainer.explain_instance(X_test.iloc[i], modelo.predict_proba, num_features=10, top_labels=1)\n",
    "exp.show_in_notebook(show_table=True, show_all=False)"
   ]
  },
  {
   "cell_type": "code",
   "execution_count": null,
   "metadata": {},
   "outputs": [],
   "source": []
  }
 ],
 "metadata": {
  "kernelspec": {
   "display_name": "Python 3",
   "language": "python",
   "name": "python3"
  },
  "language_info": {
   "codemirror_mode": {
    "name": "ipython",
    "version": 3
   },
   "file_extension": ".py",
   "mimetype": "text/x-python",
   "name": "python",
   "nbconvert_exporter": "python",
   "pygments_lexer": "ipython3",
   "version": "3.6.5"
  }
 },
 "nbformat": 4,
 "nbformat_minor": 2
}
