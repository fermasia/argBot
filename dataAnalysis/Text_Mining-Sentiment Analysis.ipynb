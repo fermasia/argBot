{
 "cells": [
  {
   "cell_type": "code",
   "execution_count": 17,
   "metadata": {},
   "outputs": [],
   "source": [
    "import pandas as pd\n",
    "import numpy as np"
   ]
  },
  {
   "cell_type": "code",
   "execution_count": 18,
   "metadata": {},
   "outputs": [],
   "source": [
    "# Unificar tweets\n",
    "tweets_k = pd.read_pickle('../datasets/TweetsDataset_K.pkl')[['screen_name','text','created_at']]\n",
    "tweets_k['grupo'] = 'K'\n",
    "tweets_m = pd.read_pickle('../datasets/TweetsDataset_M.pkl')[['screen_name','text','created_at']]\n",
    "tweets_m['grupo'] = 'M'\n",
    "tweets = pd.concat([tweets_k,tweets_m])"
   ]
  },
  {
   "cell_type": "code",
   "execution_count": 19,
   "metadata": {},
   "outputs": [
    {
     "name": "stdout",
     "output_type": "stream",
     "text": [
      "K-Tweets_count: 252388\n",
      "K-Users_count: 386\n",
      "M-Tweets_count: 262108\n",
      "M-Users_count: 411\n"
     ]
    }
   ],
   "source": [
    "# Resumen del DataSet\n",
    "print('K-Tweets_count:',tweets_k.screen_name.count())\n",
    "print('K-Users_count:',tweets_k.screen_name.nunique())\n",
    "print('M-Tweets_count:',tweets_m.screen_name.count())\n",
    "print('M-Users_count:',tweets_m.screen_name.nunique())"
   ]
  },
  {
   "cell_type": "markdown",
   "metadata": {},
   "source": [
    "### Sentiment Analysis"
   ]
  },
  {
   "cell_type": "code",
   "execution_count": 20,
   "metadata": {},
   "outputs": [],
   "source": [
    "# Importar e Instanciar Sentiment Classifier\n",
    "# Gracias y créðitos a https://github.com/aylliote/senti-py\n",
    "from classifier import *\n",
    "clf = SentimentClassifier()"
   ]
  },
  {
   "cell_type": "code",
   "execution_count": 21,
   "metadata": {},
   "outputs": [],
   "source": [
    "# Función para iterar por la lista, predecir y anexar predicción como columna nueva y entregar dataframe resultante\n",
    "def calc_sent(df):\n",
    "    lista = []\n",
    "    for index,row in df.iterrows():\n",
    "        lista.append([row.grupo,row.created_at,row.screen_name,clf.predict(row.text),row.text])\n",
    "    return pd.DataFrame(lista,columns=['grupo','created_at','screen_name','sent_score','text'])"
   ]
  },
  {
   "cell_type": "code",
   "execution_count": 22,
   "metadata": {},
   "outputs": [],
   "source": [
    "# Función para paralelizar el bucle de la función calc_sent\n",
    "def parallelize_dataframe(df, func, n_cores=4):\n",
    "    df_split = np.array_split(df, n_cores)\n",
    "    pool = Pool(n_cores)\n",
    "    df = pd.concat(pool.map(func, df_split))\n",
    "    pool.close()\n",
    "    pool.join()\n",
    "    return df"
   ]
  },
  {
   "cell_type": "code",
   "execution_count": null,
   "metadata": {},
   "outputs": [],
   "source": [
    "# Correr cálculo de sent_scores para todo el dataframe\n",
    "from multiprocessing import Pool\n",
    "tweets = parallelize_dataframe(tweets,calc_sent,n_cores=28)"
   ]
  },
  {
   "cell_type": "code",
   "execution_count": null,
   "metadata": {},
   "outputs": [],
   "source": [
    "# Agregar media por usuario de Sent_Score\n",
    "tweets = tweets.join(tweets[['screen_name','sent_score']].groupby('screen_name').mean(),on='screen_name',rsuffix='_mean')\n",
    "# Convertir a categórica\n",
    "tweets['user_type'] = pd.cut(tweets['sent_score_mean'], [0,0.2, 0.4, 0.6, 0.8, 1] , labels=[\"hater\", \"negative\", \"neutral\",\"positive\",\"lover\"])"
   ]
  },
  {
   "cell_type": "code",
   "execution_count": null,
   "metadata": {},
   "outputs": [],
   "source": [
    "# Agregar columna con zscore del score de cada usuario\n",
    "from sklearn.preprocessing import StandardScaler\n",
    "scaler = StandardScaler()\n",
    "tweets['sent_zscore_mean'] = scaler.fit_transform(tweets[['sent_score_mean']])"
   ]
  },
  {
   "cell_type": "code",
   "execution_count": null,
   "metadata": {},
   "outputs": [],
   "source": [
    "# Drop a un archivo excel para procesar\n",
    "import openpyxl\n",
    "tweets.to_excel('../datasets/tweets_M_K.xlsx',index=False)"
   ]
  }
 ],
 "metadata": {
  "kernelspec": {
   "display_name": "Python 3",
   "language": "python",
   "name": "python3"
  },
  "language_info": {
   "codemirror_mode": {
    "name": "ipython",
    "version": 3
   },
   "file_extension": ".py",
   "mimetype": "text/x-python",
   "name": "python",
   "nbconvert_exporter": "python",
   "pygments_lexer": "ipython3",
   "version": "3.6.8"
  }
 },
 "nbformat": 4,
 "nbformat_minor": 2
}
